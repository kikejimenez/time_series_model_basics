{
 "cells": [
  {
   "cell_type": "code",
   "execution_count": null,
   "metadata": {},
   "outputs": [],
   "source": [
    "# default_exp metrics"
   ]
  },
  {
   "cell_type": "code",
   "execution_count": null,
   "metadata": {},
   "outputs": [],
   "source": [
    "#export\n",
    "import numpy as np\n",
    "from numba import jit\n",
    "import pandas as pd\n",
    "from time_series_model_basics import simulate_data, moving_average, metrics\n",
    "from typing import List"
   ]
  },
  {
   "cell_type": "markdown",
   "metadata": {
    "tags": []
   },
   "source": [
    "# Metrics\n",
    "\n",
    "> Forecasting Metrics.\n",
    "\n",
    "> Total:  Error, Absolute Error, Squared Error\n",
    "\n",
    "> Mean: ME, MAE, MSE, RMSE\n",
    "\n",
    "> Percentage: \n"
   ]
  },
  {
   "cell_type": "markdown",
   "metadata": {
    "tags": [],
    "toc-hr-collapsed": true
   },
   "source": [
    "##  Total Error (TE)\n",
    "\n",
    ">  $ \\sum^{n}_{i}y_{i} - \\hat{y}_{i}$\n"
   ]
  },
  {
   "cell_type": "code",
   "execution_count": 51,
   "metadata": {},
   "outputs": [],
   "source": [
    "#export\n",
    "def __total_error(\n",
    "    *,\n",
    "    ts: np.array,\n",
    "    f: np.array,\n",
    ") -> float:\n",
    "    \"\"\"\n",
    "    Computes the total error:\n",
    "\n",
    "    $\\sum^{n}_{i}(ts[i] - f[i]), n = len(ts) = len(f)$\n",
    "\n",
    "    .Ignores nan values in times-series or the forecast.\n",
    "\n",
    "    ------\n",
    "    Parameters\n",
    "    ------\n",
    "\n",
    "    ts : np.array with the time-series\n",
    "    f :  np.array with the forecast\n",
    "\n",
    "    -------\n",
    "    Returns\n",
    "    -------\n",
    "    \n",
    "    \"\"\"\n",
    "\n",
    "    d = ts - f\n",
    "    return np.sum(d, where=~np.isnan(d))"
   ]
  },
  {
   "cell_type": "code",
   "execution_count": 54,
   "metadata": {},
   "outputs": [],
   "source": [
    "ts, f = np.array([1, 2, 3]), np.array([.5, 2.5, 2])\n",
    "assert __total_error(ts=ts, f=f) == 1.\n",
    "\n",
    "ts, f = np.array([1, 2, 3, np.nan]), np.array([.5, 2.5, 2, 1])\n",
    "assert __total_error(ts=ts, f=f) == 1"
   ]
  },
  {
   "cell_type": "code",
   "execution_count": 55,
   "metadata": {},
   "outputs": [
    {
     "data": {
      "text/plain": [
       "2.795063162712527"
      ]
     },
     "execution_count": 55,
     "metadata": {},
     "output_type": "execute_result"
    }
   ],
   "source": [
    "df, _ = moving_average.SMA(\n",
    "    1,\n",
    "    df=simulate_data.pandas_time_series(),\n",
    ")\n",
    "\n",
    "__total_error(ts= df['time_series'].to_numpy(), f=df['ma_1'].to_numpy())"
   ]
  },
  {
   "cell_type": "markdown",
   "metadata": {
    "tags": []
   },
   "source": [
    "## Absolute Error (AE)\n",
    "\n",
    ">  $ \\sum^{n}_{i} \\vert y(t_{i}) - \\hat{y}(t_{i})\\vert $"
   ]
  },
  {
   "cell_type": "code",
   "execution_count": 50,
   "metadata": {
    "tags": []
   },
   "outputs": [],
   "source": [
    "#export\n",
    "def __absolute_error(\n",
    "    *,\n",
    "    ts: np.array,\n",
    "    f: np.array,\n",
    ") -> float:\n",
    "    \"\"\"\n",
    "    Computes the absolute error:\n",
    "\n",
    "    $\\sum^{n}_{i}|ts[i] - f[i]|, n = len(ts) = len(f)$\n",
    "\n",
    "    .Ignores nan values in times-series or the forecast.\n",
    "\n",
    "    ------\n",
    "    Parameters\n",
    "    ------\n",
    "\n",
    "    ts : np.array with the time-series\n",
    "    f :  np.array with the forecast\n",
    "\n",
    "    -------\n",
    "    Returns\n",
    "    -------\n",
    "    \n",
    "    \"\"\"\n",
    "\n",
    "    d = np.abs(ts - f)\n",
    "\n",
    "    return np.sum(d, where=~np.isnan(d))"
   ]
  },
  {
   "cell_type": "code",
   "execution_count": 58,
   "metadata": {},
   "outputs": [],
   "source": [
    "ts, f = np.array([1, 2, 3]), np.array([.5, 2.5, 2])\n",
    "assert __absolute_error(ts=ts, f=f) == 2\n",
    "\n",
    "ts, f = np.array([np.nan, 1, 2, 3]), np.array([100, .5, 2.5, 2])\n",
    "assert __absolute_error(ts=ts, f=f) == 2"
   ]
  },
  {
   "cell_type": "markdown",
   "metadata": {
    "tags": [],
    "toc-hr-collapsed": true
   },
   "source": [
    "## Squared Error (SE)\n",
    ">  $ \\sum^{n}_{i} \\vert y(t_{i}) - \\hat{y}(t_{i})\\vert^2 $"
   ]
  },
  {
   "cell_type": "code",
   "execution_count": 57,
   "metadata": {},
   "outputs": [],
   "source": [
    "#export\n",
    "def __squared_error(\n",
    "    *,\n",
    "    ts: np.array,\n",
    "    f: np.array,\n",
    ") -> float:\n",
    "    \"\"\"\n",
    "    Computes the squared error:\n",
    "\n",
    "    $\\sum^{n}_{i}|ts[i] - f[i]|**2, n = len(ts) = len(f)$\n",
    "\n",
    "    .Ignores nan values in times-series or the forecast.\n",
    "\n",
    "    ------\n",
    "    Parameters\n",
    "    ------\n",
    "\n",
    "    ts : np.array with the time-series\n",
    "    f :  np.array with the forecast\n",
    "\n",
    "    -------\n",
    "    Returns\n",
    "    -------\n",
    "    \n",
    "    \"\"\"\n",
    "\n",
    "    d2 = (ts - f)**2\n",
    "    return np.sum(d2, where=~np.isnan(d2))"
   ]
  },
  {
   "cell_type": "code",
   "execution_count": 59,
   "metadata": {},
   "outputs": [],
   "source": [
    "ts, f = np.array([1, 2, 3]), np.array([.5, 2.5, 2])\n",
    "assert __squared_error(ts=ts, f=f) == 2 * (.5)**2 + 1\n",
    "\n",
    "ts, f = np.array([1, 2, np.nan, 3]), np.array([.5, 2.5, 10**3, 2])\n",
    "assert __squared_error(ts=ts, f=f) == 2 * (.5)**2 + 1"
   ]
  },
  {
   "cell_type": "markdown",
   "metadata": {
    "tags": [],
    "toc-hr-collapsed": true
   },
   "source": [
    "## Mean Error\n",
    ">  $ \\frac{1}{n}\\sum^{n}_{i}y_{i} - \\hat{y}_{i}$"
   ]
  },
  {
   "cell_type": "code",
   "execution_count": 61,
   "metadata": {},
   "outputs": [],
   "source": [
    "#export\n",
    "def __mean_error(\n",
    "    *,\n",
    "    ts: np.array,\n",
    "    f: np.array,\n",
    ") -> float:\n",
    "    \"\"\"\n",
    "    Computes the mean error:\n",
    "\n",
    "    $(1/n)\\sum^{n*}_{i}ts[i] - f[i], n* = len(ts) = len(f)$\n",
    "\n",
    "    .Ignores nan values in times-series or the forecast.\n",
    "     Value n is n* minus the ignored values\n",
    "\n",
    "    ------\n",
    "    Parameters\n",
    "    ------\n",
    "\n",
    "    ts : np.array with the time-series\n",
    "    f :  np.array with the forecast\n",
    "\n",
    "    -------\n",
    "    Returns\n",
    "    -------\n",
    "    \n",
    "    \"\"\"\n",
    "    d = ts - f\n",
    "    w = ~np.isnan(d)\n",
    "    n = len(d[w])\n",
    "\n",
    "    return np.divide(\n",
    "        np.sum(d, where=w),\n",
    "        n,\n",
    "        where=n > 0,\n",
    "    )"
   ]
  },
  {
   "cell_type": "code",
   "execution_count": 62,
   "metadata": {},
   "outputs": [],
   "source": [
    "ts, f = np.array([1, 2, 3]), np.array([.5, 2.5, 2])\n",
    "assert __mean_error(ts=ts, f=f) == (1 / 3) * (1)\n",
    "\n",
    "ts, f = np.array([1, 2, 10**3, 3]), np.array([.5, 2.5, np.nan, 2])\n",
    "assert __mean_error(ts=ts, f=f) == (1 / 3) * (1)\n",
    "\n",
    "ts, f = np.array([np.nan, np.nan]), np.array([.5, 2.5])\n",
    "assert abs(__mean_error(ts=ts, f=f)) < 10**(-20)"
   ]
  },
  {
   "cell_type": "markdown",
   "metadata": {
    "tags": []
   },
   "source": [
    "## Mean Absolute Error (MAE)\n",
    "\n",
    ">  $ \\frac{1}{n}\\sum^{n}_{i} \\vert y(t_{i}) - \\hat{y}(t_{i})\\vert $"
   ]
  },
  {
   "cell_type": "code",
   "execution_count": 63,
   "metadata": {},
   "outputs": [],
   "source": [
    "#export\n",
    "def __mean_absolute_error(\n",
    "    *,\n",
    "    ts: np.array,\n",
    "    f: np.array,\n",
    ") -> float:\n",
    "    \"\"\"\n",
    "    Computes the mean absolute error:\n",
    "\n",
    "    $$(1/n)\\sum^{n}_{i} | ts[i] - f[i]|, n = len(ts) = len(f)$$\n",
    "\n",
    "    .Ignores nan values in times-series or the forecast.\n",
    "\n",
    "    ------\n",
    "    Parameters\n",
    "    ------\n",
    "\n",
    "    ts : np.array with the time-series\n",
    "    f :  np.array with the forecast\n",
    "\n",
    "    -------\n",
    "    Returns\n",
    "    -------\n",
    "    \n",
    "    \"\"\"\n",
    "\n",
    "    d = np.abs(ts - f)\n",
    "    w = ~np.isnan(d)\n",
    "    n = len(d[w])\n",
    "\n",
    "    return np.divide(\n",
    "        np.sum(d, where=w),\n",
    "        n,\n",
    "        where=n > 0,\n",
    "    )"
   ]
  },
  {
   "cell_type": "code",
   "execution_count": 64,
   "metadata": {},
   "outputs": [],
   "source": [
    "ts, f = np.array([1, 2, 3]), np.array([.5, 2.5, 2])\n",
    "assert __mean_absolute_error(ts=ts, f=f) == (1 / 3)*(2)\n",
    "\n",
    "\n",
    "ts, f = np.array([np.nan, np.nan]), np.array([.5, 2.5])\n",
    "assert abs(__mean_absolute_error(ts=ts, f=f)) < 10**(-20)"
   ]
  },
  {
   "cell_type": "markdown",
   "metadata": {
    "tags": []
   },
   "source": [
    "## Mean Squared Error (MSE)\n",
    "\n",
    "> $\\frac{1}{n} \\sum^{n}_{i}(y_{i} - \\hat{y}_{i})^{2}$"
   ]
  },
  {
   "cell_type": "code",
   "execution_count": 66,
   "metadata": {},
   "outputs": [],
   "source": [
    "#export\n",
    "def __mean_squared_error(\n",
    "    *,\n",
    "    ts: np.array,\n",
    "    f: np.array,\n",
    ") -> float:\n",
    "    \"\"\"\n",
    "    Computes the mean squared error:\n",
    "\n",
    "    $$(1/n)\\sum^{n}_{i} | ts[i] - f[i]|**2, n = len(ts) = len(f)$$\n",
    "\n",
    "    .Ignores nan values in times-series or the forecast.\n",
    "\n",
    "    ------\n",
    "    Parameters\n",
    "    ------\n",
    "\n",
    "    ts : np.array with the time-series\n",
    "    f :  np.array with the forecast\n",
    "\n",
    "    -------\n",
    "    Returns\n",
    "    -------\n",
    "    \n",
    "    \"\"\"\n",
    "    d = (ts - f)**2\n",
    "    w = ~np.isnan(d)\n",
    "    n = len(d[w])\n",
    "\n",
    "    return np.divide(\n",
    "        np.sum(d, where=w),\n",
    "        n,\n",
    "        where=n > 0,\n",
    "    )"
   ]
  },
  {
   "cell_type": "code",
   "execution_count": 67,
   "metadata": {},
   "outputs": [],
   "source": [
    "ts, f = np.array([1, 2, 3]), np.array([.5, 2.5, 2])\n",
    "assert __mean_squared_error(ts=ts, f=f) == (1 / 3) * (2 * .5**2 + 1)\n",
    "\n",
    "ts, f = np.array([np.nan, np.nan]), np.array([.5, 2.5])\n",
    "assert __mean_squared_error(ts=ts, f=f) < 10**(-20)"
   ]
  },
  {
   "cell_type": "markdown",
   "metadata": {
    "tags": []
   },
   "source": [
    "## Root Mean Square Error (RMSE)\n",
    "\n",
    "> $\\sqrt{\\frac{1}{n} \\sum^{n}_{i}(y_{i} - \\hat{y}_{i})^{2}}$"
   ]
  },
  {
   "cell_type": "code",
   "execution_count": 73,
   "metadata": {},
   "outputs": [],
   "source": [
    "#export\n",
    "def __root_mean_square_error(\n",
    "    *,\n",
    "    ts: np.array,\n",
    "    f: np.array,\n",
    ") -> float:\n",
    "    \"\"\"\n",
    "    Computes the root mean square error:\n",
    "\n",
    "    $$\\sqrt{(1/n)\\sum^{n}_{i} | ts[i] - f[i]|**2},  n = len(ts) = len(f)$$\n",
    "\n",
    "    .Ignores nan values in times-series or the forecast.\n",
    "\n",
    "    ------\n",
    "    Parameters\n",
    "    ------\n",
    "\n",
    "    ts : np.array with the time-series\n",
    "    f :  np.array with the forecast\n",
    "\n",
    "    -------\n",
    "    Returns\n",
    "    -------\n",
    "    \n",
    "    \"\"\"\n",
    "\n",
    "    return np.sqrt(__mean_squared_error(ts=ts, f=f))"
   ]
  },
  {
   "cell_type": "code",
   "execution_count": 74,
   "metadata": {},
   "outputs": [],
   "source": [
    "ts, f = np.array([1, 2, 3]), np.array([.5, 2.5, 2])\n",
    "assert __root_mean_square_error(ts=ts, f=f) == np.sqrt((1 / 3) * (2 * .5**2 + 1))\n",
    "\n",
    "ts, f = np.array([np.nan, np.nan]), np.array([.5, 2.5])\n",
    "assert __root_mean_square_error(ts=ts, f=f) < 10**(-20)"
   ]
  },
  {
   "cell_type": "markdown",
   "metadata": {
    "tags": []
   },
   "source": [
    "## Mean Percentage Error (MPE)\n",
    ">  $\\frac{1}{n} \\sum^{n}_{i}\\frac{y_{i} - \\hat{y}_{i}} { y_i} $\n"
   ]
  },
  {
   "cell_type": "code",
   "execution_count": 75,
   "metadata": {},
   "outputs": [],
   "source": [
    "#export\n",
    "def __mean_percentage_error(\n",
    "    *,\n",
    "    ts: np.array,\n",
    "    f: np.array,\n",
    ") -> float:\n",
    "    \"\"\"\n",
    "    Computes the root mean percentage error:\n",
    "\n",
    "    $$ (1/n)\\sum ( ts[i] - f[i]) /ts[i],  n* = len(ts) = len(f)$$\n",
    "\n",
    "    .Ignores nan values and division by zero.\n",
    "    n is n* minus the ignored values\n",
    "\n",
    "    ------\n",
    "    Parameters\n",
    "    ------\n",
    "\n",
    "    ts : np.array with the time-series\n",
    "    f :  np.array with the forecast\n",
    "\n",
    "    -------\n",
    "    Returns\n",
    "    -------\n",
    "    \n",
    "    \"\"\"\n",
    "\n",
    "    pe = np.divide(ts - f, ts, where=ts != 0)\n",
    "    w = ~np.isnan(pe)\n",
    "\n",
    "    n = len(pe[w])\n",
    "\n",
    "    return np.divide(\n",
    "        np.sum(pe, where=w),\n",
    "        n,\n",
    "        where=n > 0,\n",
    "    )"
   ]
  },
  {
   "cell_type": "code",
   "execution_count": 78,
   "metadata": {},
   "outputs": [],
   "source": [
    "ts, f = np.array([1, 2, 3]), np.array([.5, 2.5, 2])\n",
    "assert __mean_percentage_error(ts=ts, f=f) == (.5 / 2 + 1 / 3) * (1 / 3)\n",
    "\n",
    "ts, f = np.array([np.nan, np.nan]), np.array([.5, 2.5])\n",
    "assert __mean_percentage_error(ts=ts, f=f) < 10**(-20)"
   ]
  },
  {
   "cell_type": "markdown",
   "metadata": {
    "tags": []
   },
   "source": [
    "## Mean Absolute Percent Error (MAPE)\n",
    "\n",
    "\n",
    ">  $\\frac{1}{n} \\sum^{n}_{i}\\vert \\frac{y_{i} - \\hat{y}_{i}} { y_i} \\vert $"
   ]
  },
  {
   "cell_type": "code",
   "execution_count": 79,
   "metadata": {},
   "outputs": [],
   "source": [
    "#export\n",
    "def __mean_absolute_percent_error(\n",
    "    *,\n",
    "    ts: np.array,\n",
    "    f: np.array,\n",
    ") -> float:\n",
    "    \"\"\"\n",
    "    Computes the mean absolute percentage error:\n",
    "\n",
    "    $$ (1/n)\\sum | ts[i] - f[i]  /ts[i] \\vert,  n* = len(ts) = len(f)$$\n",
    "\n",
    "    .Ignores nan values and division by zero.\n",
    "    n is n* minus the ignored values\n",
    "\n",
    "    ------\n",
    "    Parameters\n",
    "    ------\n",
    "\n",
    "    ts : np.array with the time-series\n",
    "    f :  np.array with the forecast\n",
    "\n",
    "    -------\n",
    "    Returns\n",
    "    -------\n",
    "    \n",
    "    \"\"\"\n",
    "\n",
    "    pe = abs(np.divide(ts - f, ts, where=ts != 0))\n",
    "    w = ~np.isnan(pe)\n",
    "\n",
    "    n = len(pe[w])\n",
    "\n",
    "    return np.divide(\n",
    "        np.sum(pe, where=w),\n",
    "        n,\n",
    "        where=n > 0,\n",
    "    )"
   ]
  },
  {
   "cell_type": "code",
   "execution_count": 82,
   "metadata": {},
   "outputs": [],
   "source": [
    "ts, f = np.array([1, 2, 3]), np.array([.5, 2.5, 2])\n",
    "assert __mean_absolute_percent_error(ts=ts,\n",
    "                                     f=f) == np.divide(.5 * (3. / 2) + (1. / 3),\n",
    "                                                       3)\n",
    "\n",
    "ts, f = np.array([np.nan, np.nan]), np.array([.5, 2.5])\n",
    "assert __mean_percentage_error(ts=ts, f=f) < 10**(-20)"
   ]
  },
  {
   "cell_type": "markdown",
   "metadata": {
    "tags": []
   },
   "source": [
    "## Summary\n",
    "\n",
    "> Summary of metrics "
   ]
  },
  {
   "cell_type": "code",
   "execution_count": 88,
   "metadata": {},
   "outputs": [],
   "source": [
    "#export\n",
    "def SUMMARY(\n",
    "    df: pd.DataFrame = None,\n",
    "    *,\n",
    "    val_col: str = None,\n",
    "    pred_cols: List[str] = None,\n",
    ") -> pd.DataFrame:\n",
    "    \"\"\"\n",
    "    Summary of Prediction Metrics\n",
    "    \n",
    "    -----\n",
    "    Parameters\n",
    "    -----\n",
    "    \n",
    "    df : dataframe , dafault None. If None it will generate a simulated dataframe.\n",
    "    val_col : str , default None.  Name of the column with the actual values. \n",
    "              It should be provided when a datafre is provided.\n",
    "    pred_cols : List[str] . Names of the columns with the predictions for the values\n",
    "              If not provided it will take all dataframe columns except val_col\n",
    "    \n",
    "    -----\n",
    "    Returns\n",
    "    ------\n",
    "    \n",
    "    dataframe : Summary results\n",
    "    \n",
    "    \n",
    "    \"\"\"\n",
    "    if df is None:\n",
    "        df = simulate_data.pandas_time_series()\n",
    "        df, _ = moving_average.SMA(\n",
    "            1,\n",
    "            4,\n",
    "            df=df,\n",
    "        )\n",
    "\n",
    "        val_col = 'time_series'\n",
    "\n",
    "    if val_col is None:\n",
    "        raise Exception('When df is provided val_col cannot be None')\n",
    "\n",
    "    if pred_cols is None:\n",
    "        pred_cols = [x for x in df.columns if x != val_col]\n",
    "\n",
    "    actual_values = df[val_col].to_numpy()\n",
    "\n",
    "    metric_names = [fn for fn in metrics.__all__ if fn[:2] == '__']\n",
    "    result_df = pd.DataFrame()\n",
    "\n",
    "    for col in pred_cols:\n",
    "        forecast = df[col].to_numpy()\n",
    "        result_df[col] = pd.Series({\n",
    "            ' '.join(fn[2:].split('_')[:-1]): eval(fn)(ts=actual_values,\n",
    "                                                       f=forecast)\n",
    "            for fn in metric_names\n",
    "        })\n",
    "    result_df.index.name = 'Error'\n",
    "    return result_df"
   ]
  },
  {
   "cell_type": "code",
   "execution_count": 89,
   "metadata": {},
   "outputs": [
    {
     "data": {
      "text/html": [
       "<div>\n",
       "<style scoped>\n",
       "    .dataframe tbody tr th:only-of-type {\n",
       "        vertical-align: middle;\n",
       "    }\n",
       "\n",
       "    .dataframe tbody tr th {\n",
       "        vertical-align: top;\n",
       "    }\n",
       "\n",
       "    .dataframe thead th {\n",
       "        text-align: right;\n",
       "    }\n",
       "</style>\n",
       "<table border=\"1\" class=\"dataframe\">\n",
       "  <thead>\n",
       "    <tr style=\"text-align: right;\">\n",
       "      <th></th>\n",
       "      <th>ma_1</th>\n",
       "      <th>ma_4</th>\n",
       "    </tr>\n",
       "    <tr>\n",
       "      <th>Error</th>\n",
       "      <th></th>\n",
       "      <th></th>\n",
       "    </tr>\n",
       "  </thead>\n",
       "  <tbody>\n",
       "    <tr>\n",
       "      <th>total</th>\n",
       "      <td>5.014113</td>\n",
       "      <td>7.783203</td>\n",
       "    </tr>\n",
       "    <tr>\n",
       "      <th>absolute</th>\n",
       "      <td>21.970438</td>\n",
       "      <td>22.912183</td>\n",
       "    </tr>\n",
       "    <tr>\n",
       "      <th>squared</th>\n",
       "      <td>25.868284</td>\n",
       "      <td>30.116424</td>\n",
       "    </tr>\n",
       "    <tr>\n",
       "      <th>mean</th>\n",
       "      <td>0.172900</td>\n",
       "      <td>0.299354</td>\n",
       "    </tr>\n",
       "    <tr>\n",
       "      <th>mean absolute</th>\n",
       "      <td>0.757601</td>\n",
       "      <td>0.881238</td>\n",
       "    </tr>\n",
       "    <tr>\n",
       "      <th>mean squared</th>\n",
       "      <td>0.892010</td>\n",
       "      <td>1.158324</td>\n",
       "    </tr>\n",
       "    <tr>\n",
       "      <th>root mean square</th>\n",
       "      <td>0.944463</td>\n",
       "      <td>1.076255</td>\n",
       "    </tr>\n",
       "    <tr>\n",
       "      <th>mean percentage</th>\n",
       "      <td>0.016861</td>\n",
       "      <td>0.027478</td>\n",
       "    </tr>\n",
       "    <tr>\n",
       "      <th>mean absolute percent</th>\n",
       "      <td>0.127818</td>\n",
       "      <td>0.144065</td>\n",
       "    </tr>\n",
       "  </tbody>\n",
       "</table>\n",
       "</div>"
      ],
      "text/plain": [
       "                            ma_1       ma_4\n",
       "Error                                      \n",
       "total                   5.014113   7.783203\n",
       "absolute               21.970438  22.912183\n",
       "squared                25.868284  30.116424\n",
       "mean                    0.172900   0.299354\n",
       "mean absolute           0.757601   0.881238\n",
       "mean squared            0.892010   1.158324\n",
       "root mean square        0.944463   1.076255\n",
       "mean percentage         0.016861   0.027478\n",
       "mean absolute percent   0.127818   0.144065"
      ]
     },
     "execution_count": 89,
     "metadata": {},
     "output_type": "execute_result"
    }
   ],
   "source": [
    "SUMMARY()"
   ]
  },
  {
   "cell_type": "markdown",
   "metadata": {},
   "source": [
    "## Dataframes and Figures\n",
    "\n",
    "> Generates a Time Series Dataframe and a Figure Object\n",
    "\n",
    "> The Values of The Time  Series are Simulated\n",
    "\n",
    "> Includes Forecasting with Moving Averages "
   ]
  }
 ],
 "metadata": {
  "kernelspec": {
   "display_name": "Python 3",
   "language": "python",
   "name": "python3"
  },
  "language_info": {
   "codemirror_mode": {
    "name": "ipython",
    "version": 3
   },
   "file_extension": ".py",
   "mimetype": "text/x-python",
   "name": "python",
   "nbconvert_exporter": "python",
   "pygments_lexer": "ipython3",
   "version": "3.8.6"
  }
 },
 "nbformat": 4,
 "nbformat_minor": 4
}
