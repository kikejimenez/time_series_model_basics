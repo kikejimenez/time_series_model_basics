{
 "cells": [
  {
   "cell_type": "markdown",
   "metadata": {
    "tags": []
   },
   "source": [
    "# Forecasting Basics\n",
    "\n",
    "> Fundamental Algorithms in Forecasting"
   ]
  },
  {
   "cell_type": "markdown",
   "metadata": {},
   "source": [
    "> [Documentation and Code is hosted on Github](https://github.com/kikejimenez/time_series_model_basics)  \n",
    "\n",
    "\n",
    "> Generate and Plot Forecasts for Time Series Data \n",
    "\n",
    "\n",
    "> Includes: SMA, WMA and Single and Double Exponential Smoothing \n",
    "\n"
   ]
  },
  {
   "cell_type": "markdown",
   "metadata": {},
   "source": [
    "## Install"
   ]
  },
  {
   "cell_type": "markdown",
   "metadata": {},
   "source": [
    "```bash\n",
    "pip install time-series-model-basics\n",
    "```"
   ]
  },
  {
   "cell_type": "markdown",
   "metadata": {
    "tags": []
   },
   "source": [
    "## Simple Moving Average"
   ]
  },
  {
   "cell_type": "markdown",
   "metadata": {},
   "source": [
    "Plot a Simulated Time Series with two or  any number of Simple Moving Averages as follows:"
   ]
  },
  {
   "cell_type": "code",
   "execution_count": 11,
   "metadata": {},
   "outputs": [],
   "source": [
    "from time_series_model_basics.moving_average import SMA\n",
    "\n",
    "df, fig = SMA(1, 4)\n",
    "\n",
    "fig.write_image(\"images/sma.png\")"
   ]
  },
  {
   "cell_type": "markdown",
   "metadata": {},
   "source": [
    "<img src='images/sma.png' width=\"700\" height=\"400\">"
   ]
  },
  {
   "cell_type": "markdown",
   "metadata": {},
   "source": [
    "When running on a notebook you may alternatively use\n",
    "```python\n",
    "fig.show()\n",
    "```"
   ]
  },
  {
   "cell_type": "markdown",
   "metadata": {
    "tags": []
   },
   "source": [
    "## Weighted Moving Average"
   ]
  },
  {
   "cell_type": "markdown",
   "metadata": {},
   "source": [
    "For the case of  Weighted Moving Averages, pass the weights as lists:"
   ]
  },
  {
   "cell_type": "code",
   "execution_count": 4,
   "metadata": {},
   "outputs": [],
   "source": [
    "from time_series_model_basics.moving_average import WMA\n",
    "\n",
    "df,fig = WMA([1,1,2],[3,2])\n",
    "df, fig = SMA(1, 4)\n",
    "\n",
    "fig.write_image(\"images/wma.png\")"
   ]
  },
  {
   "cell_type": "markdown",
   "metadata": {},
   "source": [
    "<img src='images/wma.png' width=\"700\" height=\"400\">"
   ]
  },
  {
   "cell_type": "markdown",
   "metadata": {
    "tags": []
   },
   "source": [
    "## Simple Smoothing "
   ]
  },
  {
   "cell_type": "markdown",
   "metadata": {},
   "source": [
    "Plot a Simulated Time Series with two or  any number of simple exponential smoothing as follows:"
   ]
  },
  {
   "cell_type": "code",
   "execution_count": 6,
   "metadata": {},
   "outputs": [],
   "source": [
    "from time_series_model_basics.smoothing import SIMPLE\n",
    "\n",
    "df, fig = SIMPLE(.15, .5)\n",
    "fig.write_image(\"images/simple.png\",)"
   ]
  },
  {
   "cell_type": "markdown",
   "metadata": {},
   "source": [
    "<img src='images/simple.png' width=\"700\" height=\"400\">"
   ]
  },
  {
   "cell_type": "markdown",
   "metadata": {
    "tags": []
   },
   "source": [
    "## Double Smoothing "
   ]
  },
  {
   "cell_type": "code",
   "execution_count": 9,
   "metadata": {},
   "outputs": [],
   "source": [
    "from time_series_model_basics.smoothing import DOUBLE\n",
    "\n",
    "df, fig = DOUBLE(\n",
    "    [.25, .3],\n",
    "    [.5, .6],\n",
    ")\n",
    "fig.write_image(\"images/double.png\")"
   ]
  },
  {
   "cell_type": "markdown",
   "metadata": {},
   "source": [
    "<img src='images/double.png' width=\"700\" height=\"400\">"
   ]
  }
 ],
 "metadata": {
  "kernelspec": {
   "display_name": "Python 3",
   "language": "python",
   "name": "python3"
  },
  "language_info": {
   "codemirror_mode": {
    "name": "ipython",
    "version": 3
   },
   "file_extension": ".py",
   "mimetype": "text/x-python",
   "name": "python",
   "nbconvert_exporter": "python",
   "pygments_lexer": "ipython3",
   "version": "3.8.6"
  }
 },
 "nbformat": 4,
 "nbformat_minor": 4
}
