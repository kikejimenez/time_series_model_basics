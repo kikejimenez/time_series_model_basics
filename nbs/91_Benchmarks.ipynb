{
 "cells": [
  {
   "cell_type": "code",
   "execution_count": null,
   "id": "43c87ede-c0cc-4fb3-b757-cbb62b9f2195",
   "metadata": {},
   "outputs": [],
   "source": [
    "# Benchmarks"
   ]
  },
  {
   "cell_type": "code",
   "execution_count": 1,
   "id": "5bbdaf91-78fe-45ae-89d9-8283e818329c",
   "metadata": {},
   "outputs": [],
   "source": [
    "from os import path\n",
    "import requests\n",
    "import numpy as np\n",
    "import pandas as pd\n",
    "from time_series_model_basics import moving_average, smoothing, metrics, optimizers\n",
    "from statsmodels.tsa.api import ExponentialSmoothing, SimpleExpSmoothing, Holt"
   ]
  },
  {
   "cell_type": "markdown",
   "id": "ded03b2f-c8b8-4d26-8813-72b6731d6cee",
   "metadata": {},
   "source": [
    "## Load Data"
   ]
  },
  {
   "cell_type": "code",
   "execution_count": 2,
   "id": "95eb4593-ef8a-44e4-b305-744e74e30a69",
   "metadata": {},
   "outputs": [],
   "source": [
    "own_col = 'home_made_holt'\n",
    "ts_col = 'sales'\n",
    "nb_replicate = 10*2+1\n",
    "\n",
    "datafile = '../data/superstore_sales.csv'\n",
    "\n",
    "df = pd.read_csv(\n",
    "    datafile,\n",
    "    index_col='Order Date',\n",
    "    dtype={\n",
    "        'Row ID': str,\n",
    "        'Order ID': str,\n",
    "    },\n",
    "    parse_dates=['Order Date', 'Ship Date'],\n",
    ")\n",
    "\n",
    "df.columns = ['_'.join(x.lower().split(' ')) for x in df.columns]\n",
    "\n",
    "df = pd.concat(nb_replicate * [df.reset_index()[[ts_col]]])\n",
    "df.index = pd.date_range('1700-01-01', periods=len(df), freq='D')\n",
    "\n",
    "df1 = df.copy()\n",
    "df2 = df.copy()\n",
    "\n",
    "smoothing_level = 0.1\n",
    "smoothing_trend = 0.1"
   ]
  },
  {
   "cell_type": "code",
   "execution_count": 3,
   "id": "889c0ea0-cf08-474c-a2b5-cf17f8895f6b",
   "metadata": {},
   "outputs": [
    {
     "name": "stdout",
     "output_type": "stream",
     "text": [
      "CPU times: user 1.99 s, sys: 178 ms, total: 2.17 s\n",
      "Wall time: 1.84 s\n"
     ]
    }
   ],
   "source": [
    "%%time\n",
    "stats_holt = Holt(\n",
    "    df1[[ts_col]],\n",
    "    initialization_method=\"estimated\",\n",
    ").fit(\n",
    "    smoothing_level=smoothing_level,\n",
    "    smoothing_trend=smoothing_trend,\n",
    "    optimized=False,\n",
    ")\n",
    "sm_holt = 'sm_holt'\n",
    "df1[sm_holt] = stats_holt.fittedvalues"
   ]
  },
  {
   "cell_type": "code",
   "execution_count": 5,
   "id": "c195c412-e92c-4154-868e-cd0f25ac8687",
   "metadata": {},
   "outputs": [
    {
     "name": "stdout",
     "output_type": "stream",
     "text": [
      "CPU times: user 7.85 s, sys: 30.7 ms, total: 7.88 s\n",
      "Wall time: 7.88 s\n"
     ]
    }
   ],
   "source": [
    "%%time \n",
    "\n",
    "_ = smoothing.DOUBLE(\n",
    "    [smoothing_level, smoothing_trend],\n",
    "    df=df2[[ts_col]],\n",
    "    ts_col=ts_col,\n",
    ")"
   ]
  },
  {
   "cell_type": "code",
   "execution_count": null,
   "id": "167dcaa0-cdb5-4514-8fa8-e469e5eef474",
   "metadata": {},
   "outputs": [],
   "source": []
  }
 ],
 "metadata": {
  "kernelspec": {
   "display_name": "Python 3",
   "language": "python",
   "name": "python3"
  },
  "language_info": {
   "codemirror_mode": {
    "name": "ipython",
    "version": 3
   },
   "file_extension": ".py",
   "mimetype": "text/x-python",
   "name": "python",
   "nbconvert_exporter": "python",
   "pygments_lexer": "ipython3",
   "version": "3.8.6"
  }
 },
 "nbformat": 4,
 "nbformat_minor": 5
}
